{
 "cells": [
  {
   "cell_type": "code",
   "execution_count": 1,
   "metadata": {},
   "outputs": [
    {
     "name": "stdout",
     "output_type": "stream",
     "text": [
      "['red', 'blue', 'yellow']\n",
      "<class 'list'>\n"
     ]
    }
   ],
   "source": [
    "# 변수 c에 \"red\" \"blue\" \"yellow\" 세 개의 문자열을 저장하세요\n",
    "c = [\"red\", \"blue\", \"yellow\"]\n",
    "\n",
    "print(c)\n",
    "\n",
    "# c의 자료형을 출력하세요\n",
    "print(type(c))\n"
   ]
  },
  {
   "cell_type": "code",
   "execution_count": 2,
   "metadata": {},
   "outputs": [
    {
     "name": "stdout",
     "output_type": "stream",
     "text": [
      "['사과', 3, '고릴라']\n"
     ]
    }
   ],
   "source": [
    "n = 3\n",
    "print([\"사과\", n, \"고릴라\"])\n"
   ]
  },
  {
   "cell_type": "code",
   "execution_count": 3,
   "metadata": {},
   "outputs": [
    {
     "name": "stdout",
     "output_type": "stream",
     "text": [
      "[4, 3, 6]\n"
     ]
    }
   ],
   "source": [
    "apple = 4\n",
    "grape = 3\n",
    "banana = 6\n",
    "\n",
    "# 리스트 형 fruits 변수에 apple, grape, banana 변수를 순서대로 저장하세요\n",
    "\n",
    "fruits = [apple, grape, banana]\n",
    "print(fruits)\n"
   ]
  },
  {
   "cell_type": "code",
   "execution_count": 4,
   "metadata": {},
   "outputs": [
    {
     "name": "stdout",
     "output_type": "stream",
     "text": [
      "[1, 2, 3, 4, 5, 6]\n"
     ]
    }
   ],
   "source": [
    "print([1, 2, 3, 4, 5, 6])"
   ]
  },
  {
   "cell_type": "code",
   "execution_count": 5,
   "metadata": {},
   "outputs": [
    {
     "name": "stdout",
     "output_type": "stream",
     "text": [
      "[['사과', 2], ['귤', 10]]\n"
     ]
    }
   ],
   "source": [
    "fruits_name_1 = \"사과\"\n",
    "fruits_num_1 = 2\n",
    "fruits_name_2 = \"귤\"\n",
    "fruits_num_2 = 10\n",
    "\n",
    "# [[\"사과\", 2], [\"귤\", 10]]이 출력되도록 fruits에 변수를 리스트에 대입합니다\n",
    "fruits = [[fruits_name_1, fruits_num_1], [fruits_name_2, fruits_num_2]] \n",
    "\n",
    "# 출력합니다\n",
    "print(fruits)\n"
   ]
  },
  {
   "cell_type": "code",
   "execution_count": 6,
   "metadata": {},
   "outputs": [
    {
     "name": "stdout",
     "output_type": "stream",
     "text": [
      "2\n",
      "3\n"
     ]
    }
   ],
   "source": [
    "a = [1, 2, 3, 4]\n",
    "print(a[1])\n",
    "print(a[-2])\n"
   ]
  },
  {
   "cell_type": "code",
   "execution_count": 7,
   "metadata": {},
   "outputs": [
    {
     "name": "stdout",
     "output_type": "stream",
     "text": [
      "2\n",
      "1\n"
     ]
    }
   ],
   "source": [
    "fruits = [\"apple\", 2, \"orange\", 4, \"grape\", 3, \"banana\", 1]\n",
    "\n",
    "# 변수 fruits의 두 번째 요소를 출력합니다\n",
    "print(fruits[1]) # print(fruits[-7])도 정답입니다\n",
    "\n",
    "# 변수 fruits의 마지막 요소를 출력하세요\n",
    "print(fruits[7]) # print(fruits[-1])도 정답입니다"
   ]
  },
  {
   "cell_type": "code",
   "execution_count": 8,
   "metadata": {},
   "outputs": [
    {
     "name": "stdout",
     "output_type": "stream",
     "text": [
      "['b', 'c', 'd', 'e']\n",
      "['b', 'c', 'd', 'e']\n",
      "['a', 'b', 'c', 'd', 'e']\n",
      "['g', 'h', 'i', 'j']\n",
      "['a', 'b', 'c', 'd', 'e', 'f', 'g', 'h', 'i', 'j']\n"
     ]
    }
   ],
   "source": [
    "alphabet = [\"a\", \"b\", \"c\", \"d\", \"e\", \"f\", \"g\", \"h\", \"i\", \"j\"]\n",
    "print(alphabet[1:5])\n",
    "print(alphabet[1:-5])\n",
    "print(alphabet[:5])\n",
    "print(alphabet[6:])\n",
    "print(alphabet[0:20])\n"
   ]
  },
  {
   "cell_type": "code",
   "execution_count": 9,
   "metadata": {},
   "outputs": [
    {
     "name": "stdout",
     "output_type": "stream",
     "text": [
      "['apple', 2, 'orange', 4, 'grape', 3, 'banana', 1]\n"
     ]
    }
   ],
   "source": [
    "chaos = [\"cat\", \"apple\", 2, \"orange\", 4, \"grape\", 3, \"banana\", 1,\n",
    "\"elephant\", \"dog\"]\n",
    "\n",
    "# chaos 리스트에서 [\"apple\", 2, \"orange\", 4, \"grape\", 3, \"banana\", 1] 리스트를 꺼내 변수 fruits에 저장하세요\n",
    "fruits = chaos[1:9] #chaos[1:-3]도 가능\n",
    "\n",
    "# 변수 fruits을 출력\n",
    "print(fruits)\n"
   ]
  },
  {
   "cell_type": "code",
   "execution_count": 10,
   "metadata": {},
   "outputs": [
    {
     "name": "stdout",
     "output_type": "stream",
     "text": [
      "['A', 'B', 'C', 'd', 'e']\n",
      "['A', 'B', 'C', 'd', 'e', 'f', 'g', 'h', 'i']\n"
     ]
    }
   ],
   "source": [
    "alphabet = [\"a\", \"b\", \"c\", \"d\", \"e\"]\n",
    "alphabet[0] = \"A\"\n",
    "alphabet[1:3] = [\"B\", \"C\"]\n",
    "print(alphabet)\n",
    "\n",
    "alphabet = alphabet + [\"f\"]\n",
    "alphabet += [\"g\",\"h\"]\n",
    "alphabet.append(\"i\")\n",
    "print(alphabet)\n"
   ]
  },
  {
   "cell_type": "code",
   "execution_count": 11,
   "metadata": {},
   "outputs": [
    {
     "name": "stdout",
     "output_type": "stream",
     "text": [
      "['red', 'blue', 'yellow']\n",
      "['red', 'blue', 'yellow', 'green']\n"
     ]
    }
   ],
   "source": [
    "c = [\"dog\", \"blue\", \"yellow\"]\n",
    "\n",
    "# 변수 c의 첫 번째 요소를 \"red\"로 바꾸세요\n",
    "c[0] = \"red\"\n",
    "print(c)\n",
    "\n",
    "# 리스트의 끝에 문자열 \"green\"을 추가하세요\n",
    "c = c + [\"green\"] # c.append(\"green\") 도 가능\n",
    "print(c)\n"
   ]
  },
  {
   "cell_type": "code",
   "execution_count": 12,
   "metadata": {},
   "outputs": [
    {
     "name": "stdout",
     "output_type": "stream",
     "text": [
      "['b', 'c']\n"
     ]
    }
   ],
   "source": [
    "alphabet = [\"a\", \"b\", \"c\", \"d\", \"e\"]\n",
    "del alphabet[3:]\n",
    "del alphabet[0]\n",
    "print(alphabet)\n"
   ]
  },
  {
   "cell_type": "code",
   "execution_count": 13,
   "metadata": {},
   "outputs": [
    {
     "name": "stdout",
     "output_type": "stream",
     "text": [
      "['dog', 'blue', 'yellow']\n",
      "['blue', 'yellow']\n"
     ]
    }
   ],
   "source": [
    "c = [\"dog\", \"blue\", \"yellow\"]\n",
    "print(c)\n",
    "\n",
    "# 변수 c의 첫 번째 요소를 제거하세요\n",
    "del c[0]\n",
    "print(c)\n"
   ]
  },
  {
   "cell_type": "code",
   "execution_count": 14,
   "metadata": {},
   "outputs": [
    {
     "name": "stdout",
     "output_type": "stream",
     "text": [
      "['A', 'b', 'c']\n"
     ]
    }
   ],
   "source": [
    "alphabet = [\"a\", \"b\", \"c\"]\n",
    "alphabet_copy = alphabet\n",
    "alphabet_copy[0] = \"A\"\n",
    "print(alphabet)\n"
   ]
  },
  {
   "cell_type": "code",
   "execution_count": 15,
   "metadata": {},
   "outputs": [
    {
     "name": "stdout",
     "output_type": "stream",
     "text": [
      "['a', 'b', 'c']\n"
     ]
    }
   ],
   "source": [
    "alphabet = [\"a\", \"b\", \"c\"]\n",
    "alphabet_copy = alphabet[:]\n",
    "alphabet_copy[0] = \"A\"\n",
    "print(alphabet)\n"
   ]
  },
  {
   "cell_type": "code",
   "execution_count": 16,
   "metadata": {},
   "outputs": [
    {
     "name": "stdout",
     "output_type": "stream",
     "text": [
      "['red', 'blue', 'yellow']\n"
     ]
    }
   ],
   "source": [
    "c = [\"red\", \"blue\", \"yellow\"]\n",
    "\n",
    "# 변수 c의 값이 변하지 않도록 수정하세요\n",
    "c_copy = list(c) #c[:] 도 정답입니다\n",
    "\n",
    "c_copy[1] = \"green\"\n",
    "print(c)\n"
   ]
  },
  {
   "cell_type": "code",
   "execution_count": 17,
   "metadata": {},
   "outputs": [
    {
     "name": "stdout",
     "output_type": "stream",
     "text": [
      "{'Japan': 'Tokyo', 'Korea': 'Seoul'}\n"
     ]
    }
   ],
   "source": [
    "dic ={\"Japan\": \"Tokyo\", \"Korea\": \"Seoul\"}\n",
    "print(dic)"
   ]
  },
  {
   "cell_type": "code",
   "execution_count": 18,
   "metadata": {},
   "outputs": [
    {
     "name": "stdout",
     "output_type": "stream",
     "text": [
      "{'Aichi': 'Nagoya', 'Kanagawa': 'Yokohama'}\n",
      "<class 'dict'>\n"
     ]
    }
   ],
   "source": [
    "# 변수 town에 딕셔너리를 저장하세요\n",
    "town = {\"Aichi\": \"Nagoya\", \"Kanagawa\": \"Yokohama\"} \n",
    "\n",
    "# town 출력\n",
    "print(town)\n",
    "# 형의 출력\n",
    "print(type(town))\n"
   ]
  },
  {
   "cell_type": "code",
   "execution_count": 19,
   "metadata": {},
   "outputs": [
    {
     "name": "stdout",
     "output_type": "stream",
     "text": [
      "Tokyo\n"
     ]
    }
   ],
   "source": [
    "dic ={\"Japan\": \"Tokyo\", \"Korea\": \"Soul\"}\n",
    "print(dic[\"Japan\"])"
   ]
  },
  {
   "cell_type": "code",
   "execution_count": 20,
   "metadata": {},
   "outputs": [
    {
     "name": "stdout",
     "output_type": "stream",
     "text": [
      "Aichi의 현청 소재지는 Nagoya입니다\n",
      "Kanagawa의 현청 소재지는 Yokohama입니다\n"
     ]
    }
   ],
   "source": [
    "town = {\"Aichi\": \"Nagoya\", \"Kanagawa\": \"Yokohama\"}\n",
    "\n",
    "# \"Aichi의 현청 소재지는 Nagoya입니다\"라고 출력하세요\n",
    "print(\"Aichi의 현청 소재지는 \" + town[\"Aichi\"] + \"입니다\")\n",
    "\n",
    "# \"Kanagawa의 현청 소재지는 Yokohama입니다\"라고 출력하세요\n",
    "print(\"Kanagawa의 현청 소재지는 \" + town[\"Kanagawa\"] + \"입니다\")\n"
   ]
  },
  {
   "cell_type": "code",
   "execution_count": 21,
   "metadata": {},
   "outputs": [
    {
     "name": "stdout",
     "output_type": "stream",
     "text": [
      "{'Japan': 'Osaka', 'Korea': 'Soul', 'China': 'Beijin'}\n"
     ]
    }
   ],
   "source": [
    "dic ={\"Japan\":\"Tokyo\",\"Korea\":\"Soul\"}\n",
    "dic[\"Japan\"] = \"Osaka\"\n",
    "dic[\"China\"] = \"Beijin\"\n",
    "print(dic)"
   ]
  },
  {
   "cell_type": "code",
   "execution_count": 22,
   "metadata": {
    "scrolled": true
   },
   "outputs": [
    {
     "name": "stdout",
     "output_type": "stream",
     "text": [
      "{'Aichi': 'aichi', 'Kanagawa': 'Yokohama', 'Hokkaido': 'Sapporo'}\n",
      "{'Aichi': 'Nagoya', 'Kanagawa': 'Yokohama', 'Hokkaido': 'Sapporo'}\n"
     ]
    }
   ],
   "source": [
    "town = {\"Aichi\": \"aichi\", \"Kanagawa\": \"Yokohama\"} \n",
    "\n",
    "# 키 \"Hokkaido\" 값 \"Sapporo\"를 추가하세요\n",
    "town[\"Hokkaido\"] = \"Sapporo\" \n",
    "print(town)\n",
    "\n",
    "# 키 \"Aichi\"의 값을 \"Nagoya\"로 변경하세요\n",
    "town[\"Aichi\"] = \"Nagoya\" \n",
    "print(town)"
   ]
  },
  {
   "cell_type": "code",
   "execution_count": 23,
   "metadata": {},
   "outputs": [
    {
     "name": "stdout",
     "output_type": "stream",
     "text": [
      "{'Japan': 'Tokyo', 'Korea': 'Seoul'}\n"
     ]
    }
   ],
   "source": [
    "dic ={\"Japan\": \"Tokyo\", \"Korea\": \"Seoul\", \"China\": \"Beijin\"}\n",
    "del dic[\"China\"]\n",
    "print(dic)\n"
   ]
  },
  {
   "cell_type": "code",
   "execution_count": 24,
   "metadata": {},
   "outputs": [
    {
     "name": "stdout",
     "output_type": "stream",
     "text": [
      "{'Kanagawa': 'Yokohama', 'Hokkaido': 'Sapporo'}\n"
     ]
    }
   ],
   "source": [
    "town = { \"Aichi\": \"aichi\", \"Kanagawa\": \"Yokohama\", \"Hokkaido\": \"Sapporo\"}\n",
    "\n",
    "# 키가 \"Aichi\"인 요소를 제거하세요\n",
    "del town[\"Aichi\"]\n",
    "print(town)\n"
   ]
  },
  {
   "cell_type": "code",
   "execution_count": 25,
   "metadata": {},
   "outputs": [
    {
     "name": "stdout",
     "output_type": "stream",
     "text": [
      "2\n",
      "1\n"
     ]
    }
   ],
   "source": [
    "n = 2\n",
    "while n > 0:\n",
    "    print(n)\n",
    "    n -= 1\n"
   ]
  },
  {
   "cell_type": "code",
   "execution_count": 26,
   "metadata": {},
   "outputs": [
    {
     "name": "stdout",
     "output_type": "stream",
     "text": [
      "Aidemy\n",
      "Aidemy\n",
      "Aidemy\n"
     ]
    }
   ],
   "source": [
    "x = 5\n",
    "while x > 0:\n",
    "    print(\"Aidemy\")\n",
    "    x -= 2\n"
   ]
  },
  {
   "cell_type": "code",
   "execution_count": 27,
   "metadata": {},
   "outputs": [
    {
     "name": "stdout",
     "output_type": "stream",
     "text": [
      "4\n",
      "3\n",
      "2\n",
      "1\n",
      "0\n"
     ]
    }
   ],
   "source": [
    "x =  5\n",
    "\n",
    "# while을 사용하여 변수 x가 0이 아닐 동안 루프하도록 만들어주세요\n",
    "while x != 0:\n",
    "    # 반복문 속에서 변수 x에서 1을 빼고, 출력합니다\n",
    "    x -= 1\n",
    "    print(x)\n",
    "\n"
   ]
  },
  {
   "cell_type": "code",
   "execution_count": 28,
   "metadata": {},
   "outputs": [
    {
     "name": "stdout",
     "output_type": "stream",
     "text": [
      "4\n",
      "3\n",
      "2\n",
      "1\n",
      "Bang\n"
     ]
    }
   ],
   "source": [
    "x = 5\n",
    "\n",
    "# while을 사용하여 변수 x가 0이 아닐 동안 루프하도록 만들어주세요\n",
    "while x != 0:\n",
    "    # 반복문 속에서 변수 x에서 1을 빼고, 출력합니다\n",
    "    x -= 1\n",
    "    if x != 0:\n",
    "        print(x)\n",
    "    else:\n",
    "        print(\"Bang\")\n"
   ]
  },
  {
   "cell_type": "code",
   "execution_count": 29,
   "metadata": {},
   "outputs": [
    {
     "name": "stdout",
     "output_type": "stream",
     "text": [
      "tiger\n",
      "dog\n",
      "elephant\n"
     ]
    }
   ],
   "source": [
    "animals = [\"tiger\", \"dog\", \"elephant\"]\n",
    "for animal in animals:\n",
    "    print(animal)\n"
   ]
  },
  {
   "cell_type": "code",
   "execution_count": 30,
   "metadata": {},
   "outputs": [
    {
     "name": "stdout",
     "output_type": "stream",
     "text": [
      "1\n",
      "2\n",
      "3\n",
      "4\n"
     ]
    }
   ],
   "source": [
    "storages = [1, 2, 3, 4]\n",
    "\n",
    "# for 문으로 변수 storages의 요소를 출력하세요\n",
    "for n in storages:\n",
    "    print(n)\n"
   ]
  },
  {
   "cell_type": "code",
   "execution_count": 31,
   "metadata": {},
   "outputs": [
    {
     "name": "stdout",
     "output_type": "stream",
     "text": [
      "1\n",
      "2\n",
      "3\n",
      "4\n",
      "5\n",
      "다음은 여기\n"
     ]
    }
   ],
   "source": [
    "storages = [1, 2, 3, 4, 5, 6, 7, 8, 9, 10]\n",
    "for n in storages:\n",
    "    print(n)\n",
    "    if n >= 5:\n",
    "        print(\"다음은 여기\")\n",
    "        break\n"
   ]
  },
  {
   "cell_type": "code",
   "execution_count": 32,
   "metadata": {},
   "outputs": [
    {
     "name": "stdout",
     "output_type": "stream",
     "text": [
      "1\n",
      "2\n",
      "3\n",
      "4\n"
     ]
    }
   ],
   "source": [
    "storages = [1, 2, 3, 4, 5, 6]\n",
    "\n",
    "for n in storages:\n",
    "    print(n)\n",
    "    # 변수 n의 값이 4일 때 처리를 종료하세요\n",
    "    if n == 4:\n",
    "        break;\n",
    "\n"
   ]
  },
  {
   "cell_type": "code",
   "execution_count": 33,
   "metadata": {},
   "outputs": [
    {
     "name": "stdout",
     "output_type": "stream",
     "text": [
      "1\n",
      "3\n"
     ]
    }
   ],
   "source": [
    "storages = [1, 2, 3]\n",
    "for n in storages:\n",
    "    if n == 2:\n",
    "        continue\n",
    "    print(n)\n"
   ]
  },
  {
   "cell_type": "code",
   "execution_count": 34,
   "metadata": {},
   "outputs": [
    {
     "name": "stdout",
     "output_type": "stream",
     "text": [
      "1\n",
      "3\n",
      "5\n"
     ]
    }
   ],
   "source": [
    "storages = [1, 2, 3, 4, 5, 6]\n",
    "\n",
    "for n in storages:\n",
    "    # 변수 n이 2의 배수일 때만 처리를 생략하세요\n",
    "    if n % 2 == 0:\n",
    "        continue\n",
    "    print(n)\n",
    "\n"
   ]
  },
  {
   "cell_type": "code",
   "execution_count": 35,
   "metadata": {},
   "outputs": [
    {
     "name": "stdout",
     "output_type": "stream",
     "text": [
      "0 a\n",
      "1 b\n"
     ]
    }
   ],
   "source": [
    "list = [\"a\", \"b\"]\n",
    "for index, value in enumerate(list):\n",
    "    print(index, value)\n"
   ]
  },
  {
   "cell_type": "code",
   "execution_count": 36,
   "metadata": {},
   "outputs": [
    {
     "name": "stdout",
     "output_type": "stream",
     "text": [
      "index:0 tiger\n",
      "index:1 dog\n",
      "index:2 elephant\n"
     ]
    }
   ],
   "source": [
    "animals = [\"tiger\", \"dog\", \"elephant\"]\n",
    "\n",
    "# enumerate() 함수를 이용하여 출력하세요\n",
    "for index, animal in enumerate(animals):\n",
    "    print(\"index:\" + str(index), animal)\n"
   ]
  },
  {
   "cell_type": "code",
   "execution_count": 37,
   "metadata": {},
   "outputs": [
    {
     "name": "stdout",
     "output_type": "stream",
     "text": [
      "1 2 3\n",
      "4 5 6\n"
     ]
    }
   ],
   "source": [
    "list = [[1, 2, 3],\n",
    "        [4, 5, 6]]\n",
    "for a, b, c in list:\n",
    "    print(a, b, c)\n"
   ]
  },
  {
   "cell_type": "code",
   "execution_count": 38,
   "metadata": {},
   "outputs": [
    {
     "name": "stdout",
     "output_type": "stream",
     "text": [
      "strawberry is red\n",
      "peach is pink\n",
      "banana is yellow\n"
     ]
    }
   ],
   "source": [
    "fruits = [[\"strawberry\", \"red\"],\n",
    "          [\"peach\", \"pink\"],\n",
    "          [\"banana\", \"yellow\"]]\n",
    "\n",
    "# for 문을 사용하여 출력하세요\n",
    "for fruit, color in fruits:\n",
    "    print(fruit + \" is \" + color)\n"
   ]
  },
  {
   "cell_type": "code",
   "execution_count": 39,
   "metadata": {},
   "outputs": [
    {
     "name": "stdout",
     "output_type": "stream",
     "text": [
      "strawberry is red\n",
      "peach is pink\n",
      "banana is yellow\n"
     ]
    }
   ],
   "source": [
    "fruits = {\"strawberry\": \"red\", \"peach\": \"pink\", \"banana\": \"yellow\"}\n",
    "for fruit, color in fruits.items():\n",
    "    print(fruit + \" is \" + color)\n"
   ]
  },
  {
   "cell_type": "code",
   "execution_count": 40,
   "metadata": {},
   "outputs": [
    {
     "name": "stdout",
     "output_type": "stream",
     "text": [
      "Aichi Nagoya\n",
      "Kanagawa Yokohama\n",
      "Hokkaido Sapporo\n"
     ]
    }
   ],
   "source": [
    "town = {\"Aichi\": \"Nagoya\", \"Kanagawa\": \"Yokohama\", \"Hokkaido\":\n",
    "\"Sapporo\"}\n",
    "\n",
    "# for 문을 사용하여 출력하세요\n",
    "for prefecture, capital in town.items():\n",
    "    print(prefecture, capital)"
   ]
  },
  {
   "cell_type": "code",
   "execution_count": 41,
   "metadata": {},
   "outputs": [
    {
     "name": "stdout",
     "output_type": "stream",
     "text": [
      "지우개은(는) 하나에 100원이며, 2개 구입합니다\n",
      "펜은(는) 하나에 200원이며, 3개 구입합니다\n",
      "노트은(는) 하나에 400원이며, 5개 구입합니다\n",
      "지불해야 할 금액은 2800원입니다\n",
      "거스름돈은 1200원입니다\n"
     ]
    }
   ],
   "source": [
    "items = {\"지우개\" : [100, 2], \"펜\" : [200, 3], \"노트\" : [400,5]}\n",
    "\n",
    "total_price = 0\n",
    "\n",
    "# 변수 items를 for 문으로 루프시킵니다.\n",
    "for item in items:\n",
    "\n",
    "    # \"**는 하나에 ** 원이며, **개 구입합니다\"라고 출력하세요\n",
    "    print(item + \"은(는) 하나에 \" + str(items[item][0]) + \"원이며, \"\n",
    "    + str(items[item][1]) + \"개 구입합니다\")\n",
    "\n",
    "    # 변수 total_price에 가격×수량을 더해 저장하세요\n",
    "    total_price += items[item][0] * items[item][1] \n",
    "\n",
    "# \"지불해야 할 금액은 **원입니다\"라고 출력하세요\n",
    "print(\"지불해야 할 금액은 \" + str(total_price) + \"원입니다\")\n",
    "\n",
    "# 변수 money에 임의의 값을 대입하세요.\n",
    "money = 4000\n",
    "\n",
    "# money > total_price 일 때 \"거스름돈은 **원입니다\"라고 출력하세요\n",
    "if money > total_price: \n",
    "    print(\"거스름돈은 \" + str(money - total_price) + \"원입니다\")\n",
    "\n",
    "# money == total_price 일 때 \"거스름돈은 없습니다\"라고 출력하세요.\n",
    "elif money == total_price:\n",
    "    print(\"거스름돈은 없습니다\")\n",
    "\n",
    "# money < total_price 일 때 \"돈이 충분하지 않습니다\"라고 출력하세요 \n",
    "else:\n",
    "    print(\"돈이 충분하지 않습니다\")\n"
   ]
  },
  {
   "cell_type": "code",
   "execution_count": 42,
   "metadata": {},
   "outputs": [
    {
     "name": "stdout",
     "output_type": "stream",
     "text": [
      "3\n"
     ]
    }
   ],
   "source": [
    "items = {\"eracer\" : [100, 2], \"pen\" : [200, 3], \"notebook\" : [400, 5]}\n",
    "print(items[\"pen\"][1])"
   ]
  },
  {
   "cell_type": "code",
   "execution_count": null,
   "metadata": {},
   "outputs": [],
   "source": []
  }
 ],
 "metadata": {
  "kernelspec": {
   "display_name": "Python 3",
   "language": "python",
   "name": "python3"
  },
  "language_info": {
   "codemirror_mode": {
    "name": "ipython",
    "version": 3
   },
   "file_extension": ".py",
   "mimetype": "text/x-python",
   "name": "python",
   "nbconvert_exporter": "python",
   "pygments_lexer": "ipython3",
   "version": "3.8.8"
  }
 },
 "nbformat": 4,
 "nbformat_minor": 2
}
