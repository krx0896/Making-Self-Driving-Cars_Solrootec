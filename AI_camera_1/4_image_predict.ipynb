{
 "cells": [
  {
   "cell_type": "code",
   "execution_count": 1,
   "id": "7f61cf49",
   "metadata": {},
   "outputs": [],
   "source": [
    "import os, time, winsound\n",
    "import numpy as np\n",
    "from PIL import Image\n",
    "from keras.models import load_model"
   ]
  },
  {
   "cell_type": "code",
   "execution_count": 8,
   "id": "10054549",
   "metadata": {},
   "outputs": [],
   "source": [
    "class_1 = \"Man\"\n",
    "class_2 = \"Woman\""
   ]
  },
  {
   "cell_type": "code",
   "execution_count": 13,
   "id": "f5494f88",
   "metadata": {},
   "outputs": [],
   "source": [
    "# 1. 판별 모델 불러오기\n",
    "model = load_model('./Model/trained_model.h5')"
   ]
  },
  {
   "cell_type": "code",
   "execution_count": 14,
   "id": "3e122ad0",
   "metadata": {},
   "outputs": [],
   "source": [
    "# 4. 실행 함수 정의\n",
    "def predict_now_img():\n",
    "    if len(X)!=0:\n",
    "        #### 판별 모델 사용\n",
    "        y_hat_onehot = model.predict(X_test)     # y_hat = model.predict_classes(X_test)\n",
    "        y_hat_list = y_hat_onehot.tolist()\n",
    "        y_hat_list = y_hat_list[0]\n",
    "        #### 예측값 처리 : 판별을 위해 맥스값 활용\n",
    "        y_hat = np.argmax(y_hat_onehot, axis=-1)\n",
    "        #\n",
    "        now = time.localtime()\n",
    "        now_time = str(now.tm_year) + str(now.tm_mon) + str(now.tm_mday) + str(now.tm_hour) + str(now.tm_min) + str(\n",
    "            now.tm_sec)\n",
    "        if y_hat==0:\n",
    "            print(\" Time:\", now_time, \",    AI:   You are \", class_1, \"(\", round(y_hat_list[0]*100), \"% ) !\" )\n",
    "            #winsound.PlaySound(\"SystemHand\", winsound.SND_ALIAS)\n",
    "        elif y_hat==1:\n",
    "            print(\" Time:\", now_time, \",    AI:   You are \", class_2, \"(\", round(y_hat_list[1]*100), \"% ) !\" )\n",
    "            #winsound.PlaySound(\"SystemAsterisk\", winsound.SND_ALIAS)\n",
    "\n"
   ]
  },
  {
   "cell_type": "code",
   "execution_count": 15,
   "id": "8afea33a",
   "metadata": {},
   "outputs": [],
   "source": [
    "f_origin = \"./Data_real/img_now.jpg\"\n",
    "X, X2 = [], []\n",
    "img = Image.open(f_origin)\n",
    "img = img.convert(\"RGB\")\n",
    "im_size = 64  # 32\n",
    "image_w = im_size\n",
    "image_h = im_size\n",
    "img = img.resize((image_w, image_h))\n",
    "data = np.asarray(img)\n",
    "X.append(data)"
   ]
  },
  {
   "cell_type": "code",
   "execution_count": 18,
   "id": "8aa9844c",
   "metadata": {},
   "outputs": [
    {
     "name": "stdout",
     "output_type": "stream",
     "text": [
      " Time: 20211228162813 ,    AI:   You are  Man ( 53 % ) !\n"
     ]
    }
   ],
   "source": [
    "if os.path.exists(f_origin):\n",
    "    try:\n",
    "        img = Image.open(f_origin)\n",
    "        img = img.convert(\"RGB\")\n",
    "        im_size = 64  # 32\n",
    "        image_w = im_size\n",
    "        image_h = im_size\n",
    "        img = img.resize((image_w, image_h))\n",
    "        data = np.asarray(img)\n",
    "        X2 = []\n",
    "        X2.append(data)\n",
    "        X_test = np.array(X2)\n",
    "        predict_now_img()\n",
    "    except:\n",
    "        X_test = np.array(X)\n",
    "        predict_now_img()"
   ]
  },
  {
   "cell_type": "code",
   "execution_count": null,
   "id": "8ecfb6f5",
   "metadata": {},
   "outputs": [],
   "source": []
  }
 ],
 "metadata": {
  "kernelspec": {
   "display_name": "Python 3",
   "language": "python",
   "name": "python3"
  },
  "language_info": {
   "codemirror_mode": {
    "name": "ipython",
    "version": 3
   },
   "file_extension": ".py",
   "mimetype": "text/x-python",
   "name": "python",
   "nbconvert_exporter": "python",
   "pygments_lexer": "ipython3",
   "version": "3.8.8"
  }
 },
 "nbformat": 4,
 "nbformat_minor": 5
}
