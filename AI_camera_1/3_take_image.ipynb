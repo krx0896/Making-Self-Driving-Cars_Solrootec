{
 "cells": [
  {
   "cell_type": "code",
   "execution_count": 9,
   "id": "468b2121",
   "metadata": {},
   "outputs": [],
   "source": [
    "import cv2\n",
    "from PIL import Image\n",
    "import numpy as np"
   ]
  },
  {
   "cell_type": "code",
   "execution_count": 10,
   "id": "42a99694",
   "metadata": {},
   "outputs": [],
   "source": [
    "#### Camera\n",
    "# WiFi camera\n",
    "url = 'http://192.168.66.1:9527/videostream.cgi?loginuse=admin&loginpas=admin' # WiFi camera\n",
    "#url = 0 # notebook camera 장치 번호, 0~n"
   ]
  },
  {
   "cell_type": "code",
   "execution_count": 11,
   "id": "d11d283e",
   "metadata": {},
   "outputs": [],
   "source": [
    "cap = cv2.VideoCapture(url)"
   ]
  },
  {
   "cell_type": "code",
   "execution_count": null,
   "id": "2adf7682",
   "metadata": {},
   "outputs": [],
   "source": [
    "while True:\n",
    "    ret, frame = cap.read()\n",
    "    #\n",
    "    img = Image.fromarray(frame)\n",
    "    img = img.convert(\"RGB\")\n",
    "    im_size = 600\n",
    "    image_w = im_size\n",
    "    image_h = im_size\n",
    "    img = img.resize((image_w, image_h))\n",
    "    img = np.asarray(img)\n",
    "    cv2.imshow('Cam image', img)\n",
    "    k = cv2.waitKey(1)\n",
    "\n",
    "    if k == 27:   # esc key\n",
    "        break\n",
    "    elif k == ord('s'):   # 's' key 누르면 캡쳐 이걸로 여잔지 남잔지 판단\n",
    "        #\n",
    "        img = Image.fromarray(frame)\n",
    "        img = img.convert(\"RGB\")\n",
    "        im_size = 64\n",
    "        image_w = im_size\n",
    "        image_h = im_size\n",
    "        img = img.resize((image_w, image_h))\n",
    "        img = np.asarray(img)\n",
    "        #\n",
    "        f_copy = \"./Data_real/img_now.jpg\"\n",
    "        cv2.imwrite(f_copy, img)\n",
    "\n",
    "cv2.destroyAllWindows()"
   ]
  },
  {
   "cell_type": "code",
   "execution_count": null,
   "id": "0064a906",
   "metadata": {},
   "outputs": [],
   "source": []
  }
 ],
 "metadata": {
  "kernelspec": {
   "display_name": "Python 3",
   "language": "python",
   "name": "python3"
  },
  "language_info": {
   "codemirror_mode": {
    "name": "ipython",
    "version": 3
   },
   "file_extension": ".py",
   "mimetype": "text/x-python",
   "name": "python",
   "nbconvert_exporter": "python",
   "pygments_lexer": "ipython3",
   "version": "3.8.8"
  }
 },
 "nbformat": 4,
 "nbformat_minor": 5
}
